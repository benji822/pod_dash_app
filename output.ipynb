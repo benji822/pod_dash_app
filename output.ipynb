{
 "cells": [
  {
   "cell_type": "code",
   "execution_count": 2,
   "metadata": {},
   "outputs": [
    {
     "ename": "ModuleNotFoundError",
     "evalue": "No module named 'pyodbc'",
     "output_type": "error",
     "traceback": [
      "\u001b[1;31m---------------------------------------------------------------------------\u001b[0m",
      "\u001b[1;31mModuleNotFoundError\u001b[0m                       Traceback (most recent call last)",
      "\u001b[1;32m~\\AppData\\Local\\Temp/ipykernel_27624/3402926233.py\u001b[0m in \u001b[0;36m<module>\u001b[1;34m\u001b[0m\n\u001b[0;32m      1\u001b[0m \u001b[1;32mimport\u001b[0m \u001b[0mpandas\u001b[0m \u001b[1;32mas\u001b[0m \u001b[0mpd\u001b[0m\u001b[1;33m\u001b[0m\u001b[1;33m\u001b[0m\u001b[0m\n\u001b[1;32m----> 2\u001b[1;33m \u001b[1;32mimport\u001b[0m \u001b[0mpyodbc\u001b[0m\u001b[1;33m\u001b[0m\u001b[1;33m\u001b[0m\u001b[0m\n\u001b[0m\u001b[0;32m      3\u001b[0m \u001b[1;32mimport\u001b[0m \u001b[0mdatetime\u001b[0m\u001b[1;33m\u001b[0m\u001b[1;33m\u001b[0m\u001b[0m\n\u001b[0;32m      4\u001b[0m \u001b[1;32mimport\u001b[0m \u001b[0mpathlib\u001b[0m\u001b[1;33m\u001b[0m\u001b[1;33m\u001b[0m\u001b[0m\n\u001b[0;32m      5\u001b[0m \u001b[1;32mimport\u001b[0m \u001b[0mnumpy\u001b[0m \u001b[1;32mas\u001b[0m \u001b[0mnp\u001b[0m\u001b[1;33m\u001b[0m\u001b[1;33m\u001b[0m\u001b[0m\n",
      "\u001b[1;31mModuleNotFoundError\u001b[0m: No module named 'pyodbc'"
     ]
    }
   ],
   "source": [
    "import pandas as pd\n",
    "import pyodbc\n",
    "import datetime\n",
    "import pathlib\n",
    "import numpy as np\n",
    "\n",
    "pd.set_option('display.max_rows', None)\n",
    "\n",
    "DRIVER = \"ODBC Driver 13 for SQL Server\"\n",
    "START_DATE = \"12/02/2021\"\n",
    "\n",
    "END_DATE =  \"12/08/2021\"\n",
    "\n",
    "LINE = \"L1\"\n",
    "MONTH = \"12\"\n",
    "\n",
    "START_DATE_ARR = START_DATE.split(\"/\")\n",
    "END_DATE_ARR = END_DATE.split(\"/\")\n",
    "\n",
    "FILE_NAME = f\"{START_DATE_ARR[1]}_{END_DATE_ARR[1]}{END_DATE_ARR[0]}_{START_DATE_ARR[2]}\"\n",
    "FILE_PATH = pathlib.Path(f\"./data/{FILE_NAME}\")"
   ]
  },
  {
   "cell_type": "code",
   "execution_count": null,
   "metadata": {},
   "outputs": [],
   "source": [
    "sql_conn = pyodbc.connect(f'DRIVER={DRIVER};SERVER=DESKTOP-IE69849;DATABASE=POD_Data_Analysis;Trusted_Connection=yes') "
   ]
  },
  {
   "cell_type": "code",
   "execution_count": null,
   "metadata": {},
   "outputs": [],
   "source": [
    "machine_per_entry_query = \"\"\" SELECT [LineNO]\n",
    "      ,[MachineNO]\n",
    "      ,[Output]\n",
    "      ,[OK]\n",
    "      ,[NG]\n",
    "      ,[Sampling]\n",
    "      ,[Cache]\n",
    "      ,[Other]\n",
    "      ,[Output_Total]\n",
    "      ,[OK_Total]\n",
    "      ,[NG_Total]\n",
    "      ,[Sampling_Total]\n",
    "      ,[Cache_Total]\n",
    "      ,[Other_Total]\n",
    "      ,[Createtime]\n",
    "  FROM [POD_Data_Analysis].[dbo].[IoT_POD_MachineOutPutData]\n",
    "  ORDER BY Createtime\n",
    "\"\"\"\n",
    "\n",
    "machine_run_data_query = \"\"\" SELECT [LineNO]\n",
    "      ,[MachineNO]\n",
    "      ,Convert(INT, [TotalInput]) AS [TotalInput]\n",
    "      ,Convert(INT, [Output]) AS [Output]\n",
    "      ,Convert(INT, [Sampling]) AS [Sampling]\n",
    "      ,Convert(INT, [OK]) AS [OK]\n",
    "      ,Convert(INT, [Others]) AS [Others]\n",
    "      ,Convert(INT, [NGQty]) AS [NGQty]\n",
    "      ,[Createtime]\n",
    "  FROM [POD_Data_Analysis].[dbo].[IoT_POD_MachineRunData]\n",
    "  ORDER BY Createtime\n",
    "\"\"\"\n",
    "\n",
    "clear_output_data_query = \"\"\" SELECT [LineNO]\n",
    "      ,[MachineNO]\n",
    "      ,[TotalInput]\n",
    "      ,[Output]\n",
    "      ,[NGQty]\n",
    "      ,[Sampling]\n",
    "      ,[OK]\n",
    "      ,[Others]\n",
    "      ,[Createtime]\n",
    "  FROM [POD_Data_Analysis].[dbo].[IoT_POD_MachineClearOutPut]\n",
    "  ORDER BY Createtime\n",
    "\"\"\"\n",
    "\n",
    "# machine_per_entry_data_df = pd.read_sql(machine_per_entry_query, sql_conn, parse_dates=\"Createtime\", index_col=\"Createtime\")\n",
    "# clear_output_data_df = pd.read_sql(clear_output_data_query, sql_conn, parse_dates=\"Createtime\", index_col=\"Createtime\")\n",
    "\n",
    "machine_run_data_df = pd.read_sql(machine_run_data_query, sql_conn, parse_dates=\"Createtime\", index_col=\"Createtime\")"
   ]
  },
  {
   "cell_type": "code",
   "execution_count": null,
   "metadata": {},
   "outputs": [],
   "source": [
    "wc_df_arr = [ machine_run_data_df.loc[(machine_run_data_df[\"MachineNO\"] == x + 1) & (machine_run_data_df[\"LineNO\"].str.contains(LINE))] for x in range(10)]"
   ]
  },
  {
   "cell_type": "code",
   "execution_count": null,
   "metadata": {},
   "outputs": [],
   "source": [
    "wc_filtered_arr = [wc_df_arr[x].loc[\"2021-12-02 00:00:00\" : \"2021-12-10 23:59:59\"] for x in range(10)] \n",
    "wc_hourly_arr = [wc_filtered_arr[x].resample(\"H\").last() for x in range(10)]\n",
    "wc_hourly_arr[1].head()"
   ]
  },
  {
   "cell_type": "code",
   "execution_count": null,
   "metadata": {},
   "outputs": [],
   "source": [
    "# conditions = [\n",
    "#     (wc_hourly_arr[0].Output.sub(wc_hourly_arr[0].lag) > 0),\n",
    "#     (wc_hourly_arr[0].Output.sub(wc_hourly_arr[0].lag) == 0),\n",
    "#     (wc_hourly_arr[0].Output.sub(wc_hourly_arr[0].lag) < 0)]\n",
    "# choices = [(wc_hourly_arr[0].Output.sub(wc_hourly_arr[0].lag)), 0, wc_hourly_arr[0].Output]\n",
    "\n",
    "# wc_hourly_arr[0][\"lag\"] = wc_hourly_arr[0].Output.shift(periods=1)\n",
    "# wc_hourly_arr[0][\"HourlyOutput\"] = np.select(conditions, choices)\n",
    "wc_hourly_arr[0].iloc[0]\n"
   ]
  },
  {
   "cell_type": "code",
   "execution_count": null,
   "metadata": {},
   "outputs": [],
   "source": [
    "for x in range(10):\n",
    "    # print(wc_hourly_arr[x].index[x] == wc_hourly_arr[0].index[0])\n",
    "    # break\n",
    "\n",
    "    wc_hourly_arr[x][\"Input\"] = wc_hourly_arr[x][[\"Output\", \"Sampling\", \"OK\", \"NGQty\", \"Others\"]].sum(axis=1)\n",
    "    wc_hourly_arr[x][\"Yield\"] = round(wc_hourly_arr[x][\"Output\"] / wc_hourly_arr[x][\"Input\"], 6)\n",
    "    wc_hourly_arr[x][\"YieldWithoutSample\"] = round(wc_hourly_arr[x][\"Output\"] / (wc_hourly_arr[x][\"Input\"] - wc_hourly_arr[x][\"Sampling\"]), 6)\n",
    "    wc_hourly_arr[x][\"NGRate\"] = round(wc_hourly_arr[x][\"NGQty\"] / wc_hourly_arr[x][\"Input\"], 6)\n",
    "    wc_hourly_arr[x][\"lag\"] = wc_hourly_arr[x].Output.shift(periods=1)\n",
    "\n",
    "    conditions = [\n",
    "        (wc_hourly_arr[x].Output.sub(wc_hourly_arr[x].lag) > 0),\n",
    "        (wc_hourly_arr[x].Output.sub(wc_hourly_arr[x].lag) == 0),\n",
    "        (wc_hourly_arr[x].Output.sub(wc_hourly_arr[x].lag) < 0)]\n",
    "\n",
    "    for i in wc_hourly_arr[x].index:\n",
    "        if (i == wc_hourly_arr[0].index[0]):\n",
    "            conditions.append(True)\n",
    "            \n",
    "    choices = [(wc_hourly_arr[x].Output.sub(wc_hourly_arr[x].lag)), 0, wc_hourly_arr[x].Output, wc_hourly_arr[x].Output]\n",
    "    wc_hourly_arr[x][\"HourlyOutput\"] = np.select(conditions, choices)"
   ]
  },
  {
   "cell_type": "code",
   "execution_count": null,
   "metadata": {},
   "outputs": [],
   "source": [
    "wc_hourly_arr[5].head()"
   ]
  },
  {
   "cell_type": "code",
   "execution_count": null,
   "metadata": {},
   "outputs": [],
   "source": [
    "wc_report = [wc_hourly_arr[x][[\"LineNO\", \"MachineNO\", \"Input\", \"Output\", \"Sampling\", \"OK\", \"NGQty\", \"Others\", \"NGRate\", \"Yield\", \"YieldWithoutSample\", \"HourlyOutput\"]] for x in range(10)]"
   ]
  },
  {
   "cell_type": "code",
   "execution_count": null,
   "metadata": {},
   "outputs": [],
   "source": [
    "wc_report[0].head()"
   ]
  },
  {
   "cell_type": "code",
   "execution_count": null,
   "metadata": {},
   "outputs": [],
   "source": [
    "if FILE_PATH.exists():\n",
    "    with pd.ExcelWriter(f\"{FILE_PATH}/{LINE}_{FILE_NAME}.xlsx\") as writer:  \n",
    "        for x in range(10):\n",
    "            wc_report[x].to_excel(writer, sheet_name=f'WorkCell_{x + 1}', index=True)\n",
    "else:\n",
    "    FILE_PATH.mkdir(parents=True, exist_ok=True)\n",
    "    with pd.ExcelWriter(f\"{FILE_PATH}/{LINE}_{FILE_NAME}.xlsx\") as writer:  \n",
    "        for x in range(10):\n",
    "            wc_report[x].to_excel(writer, sheet_name=f'WorkCell_{x + 1}', index=True)"
   ]
  },
  {
   "cell_type": "code",
   "execution_count": null,
   "metadata": {},
   "outputs": [],
   "source": [
    "import os\n",
    "from glob import glob\n",
    "\n",
    "files_name = [y for x in os.walk('./data') for y in glob(os.path.join(x[0], '*.xlsx'))]\n",
    "df_arr = {}\n",
    "for x in files_name:\n",
    "    arr = []\n",
    "    for y in range(10):\n",
    "        arr.append(pd.read_excel(x, sheet_name=y, parse_dates=[\"Createtime\"], index_col=\"Createtime\"))\n",
    "    line_name = x[20:22]\n",
    "    df_arr[line_name] = arr"
   ]
  },
  {
   "cell_type": "code",
   "execution_count": null,
   "metadata": {},
   "outputs": [],
   "source": [
    "df_arr['L1'][0].head()"
   ]
  },
  {
   "cell_type": "code",
   "execution_count": null,
   "metadata": {},
   "outputs": [],
   "source": [
    "lines_name = [ f[20:22] for f in files_name]\n",
    "date_arr = list(set([x.date() for x in df_arr[lines_name[0]][0].index]))"
   ]
  },
  {
   "cell_type": "code",
   "execution_count": null,
   "metadata": {},
   "outputs": [],
   "source": [
    "date_arr.sort()\n",
    "date_str_arr = [d.strftime(\"%m/%d/%Y\")  for d in date_arr]"
   ]
  },
  {
   "cell_type": "code",
   "execution_count": null,
   "metadata": {},
   "outputs": [],
   "source": [
    "df_arr['L1'][1].loc['12/02/2021'].head()"
   ]
  },
  {
   "cell_type": "code",
   "execution_count": null,
   "metadata": {},
   "outputs": [],
   "source": [
    "df_arr[lines_name[0]][0].loc[date_str_arr[0]].columns"
   ]
  },
  {
   "cell_type": "code",
   "execution_count": null,
   "metadata": {},
   "outputs": [],
   "source": [
    "time = df_arr[lines_name[0]][0].loc[date_str_arr[0]].index\n",
    "col = df_arr[lines_name[0]][0].loc[date_str_arr[0]].columns"
   ]
  },
  {
   "cell_type": "code",
   "execution_count": null,
   "metadata": {},
   "outputs": [],
   "source": [
    "df = df_arr[lines_name[0]][0].loc[date_str_arr[0]]\n",
    "df.reset_index(inplace=True)\n",
    "df = df.rename(columns = {'index':'new column name'})\n",
    "df"
   ]
  },
  {
   "cell_type": "code",
   "execution_count": null,
   "metadata": {},
   "outputs": [],
   "source": []
  }
 ],
 "metadata": {
  "interpreter": {
   "hash": "c1b9e4f92964b42b0b4ee4cb89278af3c5c819f29f076ce064f4891829993921"
  },
  "kernelspec": {
   "display_name": "Python 3.9.5 64-bit ('njoy': conda)",
   "language": "python",
   "name": "python3"
  },
  "language_info": {
   "codemirror_mode": {
    "name": "ipython",
    "version": 3
   },
   "file_extension": ".py",
   "mimetype": "text/x-python",
   "name": "python",
   "nbconvert_exporter": "python",
   "pygments_lexer": "ipython3",
   "version": "3.9.0"
  },
  "orig_nbformat": 4
 },
 "nbformat": 4,
 "nbformat_minor": 2
}
