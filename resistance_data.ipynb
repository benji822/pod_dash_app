{
 "cells": [
  {
   "cell_type": "code",
   "execution_count": 2,
   "metadata": {},
   "outputs": [],
   "source": [
    "import pandas as pd\n",
    "import pyodbc\n",
    "import datetime\n",
    "import pathlib\n",
    "\n",
    "pd.set_option('display.max_rows', None)\n",
    "\n",
    "DRIVER = \"ODBC Driver 13 for SQL Server\"\n",
    "START_DATE = \"12/01/2021\"\n",
    "\n",
    "LINE = \"Z6\"\n",
    "MONTH = \"12\"\n",
    "\n",
    "START_DATE_ARR = START_DATE.split(\"/\")\n",
    "FILE_NAME = f\"{LINE}_{START_DATE_ARR[1]}{START_DATE_ARR[0]}{START_DATE_ARR[2]}.xlsx\"\n",
    "FILE_PATH = pathlib.Path(f\"./data/{LINE}_{MONTH}{START_DATE_ARR[2]}\")\n"
   ]
  },
  {
   "cell_type": "code",
   "execution_count": 3,
   "metadata": {},
   "outputs": [],
   "source": [
    "sql_conn = pyodbc.connect(f'DRIVER={DRIVER};SERVER=DESKTOP-IE69849;DATABASE=POD_Data_Analysis;Trusted_Connection=yes') "
   ]
  },
  {
   "cell_type": "code",
   "execution_count": 12,
   "metadata": {},
   "outputs": [],
   "source": [
    "production_data_query = \"\"\" SELECT [LineNO]\n",
    "      ,[MachineNO]\n",
    "      ,Convert(FLOAT, [Resistance1]) AS [Resistance1]\n",
    "      ,[ResistanceResult1]\n",
    "      ,Convert(FLOAT, [Resistance2]) AS [Resistance2]\n",
    "      ,[ResistanceResult2]\n",
    "      ,[Weighing1]\n",
    "      ,[WeighingResult1]\n",
    "      ,[Weighing2]\n",
    "      ,[WeighingResult2]\n",
    "      ,[SN1]\n",
    "      ,[SN2]\n",
    "      ,[Flavour]\n",
    "      ,[Createtime]\n",
    "  FROM [POD_Data_Analysis].[dbo].[IoT_POD_ProductionData]\n",
    "  ORDER BY Createtime\n",
    "\"\"\"\n",
    "\n",
    "# production_data_df = pd.read_sql(production_data_query, sql_conn, parse_dates=\"Createtime\", index_col=\"Createtime\")\n",
    "production_data_df = pd.read_sql(production_data_query, sql_conn)"
   ]
  },
  {
   "cell_type": "code",
   "execution_count": 14,
   "metadata": {},
   "outputs": [],
   "source": [
    "l6_production_data = production_data_df.loc[production_data_df[\"LineNO\"].str.contains(\"L6\")]"
   ]
  },
  {
   "cell_type": "code",
   "execution_count": 15,
   "metadata": {},
   "outputs": [
    {
     "data": {
      "text/plain": [
       "LineNO               76379\n",
       "MachineNO            76379\n",
       "Resistance1          76379\n",
       "ResistanceResult1    76379\n",
       "Resistance2          76379\n",
       "ResistanceResult2    76379\n",
       "Weighing1            76379\n",
       "WeighingResult1      76379\n",
       "Weighing2            76379\n",
       "WeighingResult2      76379\n",
       "SN1                  76379\n",
       "SN2                  76379\n",
       "Flavour              76379\n",
       "Createtime           76379\n",
       "dtype: int64"
      ]
     },
     "execution_count": 15,
     "metadata": {},
     "output_type": "execute_result"
    }
   ],
   "source": [
    "l6_production_data.count()"
   ]
  },
  {
   "cell_type": "code",
   "execution_count": 16,
   "metadata": {},
   "outputs": [],
   "source": [
    "if FILE_PATH.exists():\n",
    "    with pd.ExcelWriter(f\"{FILE_PATH}/{FILE_NAME}\") as writer:\n",
    "        l6_production_data.to_excel(writer, sheet_name='ProductionData', index=False)\n",
    "else:\n",
    "    FILE_PATH.mkdir(parents=True, exist_ok=True)\n",
    "    with pd.ExcelWriter(f\"{FILE_PATH}/{FILE_NAME}\") as writer:\n",
    "        l6_production_data.to_excel(writer, sheet_name='ProductionData', index=False)"
   ]
  },
  {
   "cell_type": "code",
   "execution_count": null,
   "metadata": {},
   "outputs": [],
   "source": []
  }
 ],
 "metadata": {
  "interpreter": {
   "hash": "c1b9e4f92964b42b0b4ee4cb89278af3c5c819f29f076ce064f4891829993921"
  },
  "kernelspec": {
   "display_name": "Python 3.9.5 64-bit ('njoy': conda)",
   "language": "python",
   "name": "python3"
  },
  "language_info": {
   "codemirror_mode": {
    "name": "ipython",
    "version": 3
   },
   "file_extension": ".py",
   "mimetype": "text/x-python",
   "name": "python",
   "nbconvert_exporter": "python",
   "pygments_lexer": "ipython3",
   "version": "3.9.5"
  },
  "orig_nbformat": 4
 },
 "nbformat": 4,
 "nbformat_minor": 2
}
